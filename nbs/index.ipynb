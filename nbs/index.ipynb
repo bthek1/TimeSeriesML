{
 "cells": [
  {
   "cell_type": "markdown",
   "metadata": {},
   "source": [
    "# [Time Series Analysis](https://bthek1.github.io/TimeSeriesML/)\n",
    "\n",
    "> Time Series Analysis"
   ]
  },
  {
   "cell_type": "markdown",
   "metadata": {},
   "source": [
    "## [Future prediction using Darts library](https://bthek1.github.io/TimeSeriesML/hyperparameter%20optimization.html)"
   ]
  },
  {
   "cell_type": "markdown",
   "metadata": {},
   "source": [
    "## [Future Prediction using Nixtla Library](https://bthek1.github.io/TimeSeriesML/electricityloadforecasting.html)"
   ]
  },
  {
   "cell_type": "code",
   "execution_count": null,
   "metadata": {},
   "outputs": [],
   "source": []
  }
 ],
 "metadata": {
  "kernelspec": {
   "display_name": "python3",
   "language": "python",
   "name": "python3"
  }
 },
 "nbformat": 4,
 "nbformat_minor": 4
}
