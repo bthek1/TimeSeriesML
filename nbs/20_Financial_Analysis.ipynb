{
 "cells": [
  {
   "cell_type": "markdown",
   "id": "c3f5ba72-73d6-417c-8c84-5486818f8db7",
   "metadata": {},
   "source": [
    "# Financial Analysis\n",
    "\n",
    "> Financial Analysis\n",
    "\n",
    "- skip_showdoc: true\n",
    "- skip_exec: true"
   ]
  },
  {
   "cell_type": "markdown",
   "id": "dc5a9b82-6b42-4c4b-b756-074fe534922f",
   "metadata": {},
   "source": [
    "- [ ] Yield Curve of US Treasury Bonds\n"
   ]
  },
  {
   "cell_type": "code",
   "execution_count": null,
   "id": "3681f90b-7ce3-4018-a79b-9e47ecc03046",
   "metadata": {},
   "outputs": [],
   "source": [
    "\n"
   ]
  }
 ],
 "metadata": {
  "kernelspec": {
   "display_name": "python3",
   "language": "python",
   "name": "python3"
  }
 },
 "nbformat": 4,
 "nbformat_minor": 5
}
