{
 "cells": [
  {
   "cell_type": "markdown",
   "id": "331ddae5-e141-4407-8803-bd3394249c4a",
   "metadata": {},
   "source": [
    "# Nixtla - Hierarchical Forecast\n",
    "\n",
    "> [Nixtla - Hierarchical Forecast](https://nixtla.github.io/hierarchicalforecast/)"
   ]
  },
  {
   "cell_type": "code",
   "execution_count": null,
   "id": "bc2c8993-8185-4c20-8152-0a50765bcee5",
   "metadata": {},
   "outputs": [],
   "source": [
    "#| default_exp nixtla"
   ]
  },
  {
   "cell_type": "code",
   "execution_count": null,
   "id": "6a2291a3-fc6e-4d9b-aa95-ff768aeb46a9",
   "metadata": {},
   "outputs": [],
   "source": []
  }
 ],
 "metadata": {
  "kernelspec": {
   "display_name": "python3",
   "language": "python",
   "name": "python3"
  }
 },
 "nbformat": 4,
 "nbformat_minor": 5
}
